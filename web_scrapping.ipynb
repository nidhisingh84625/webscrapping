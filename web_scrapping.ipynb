{
 "cells": [
  {
   "cell_type": "markdown",
   "id": "253a716c-cf54-4ca5-8c57-21ccc4b92387",
   "metadata": {},
   "source": [
    "# Q1. What is Web Scraping? Why is it Used? Give three areas where Web Scraping is used to get data."
   ]
  },
  {
   "cell_type": "markdown",
   "id": "eb83a412-81ff-46f6-aacc-63c3f75d4d78",
   "metadata": {},
   "source": [
    "Web scrapping is a term used to describe the use of a program or algorithm to extract and process large amounts of data from the web. Whether you are a data scientist, engineer, or anybody who analyzes large amounts of datasets, the ability to scrape data from the web is a useful skill to have.\n",
    "\n",
    "Web scraping is commonly used to retrieve the most updated data about properties, sale prices, monthly rental income, amenities, property agents, and other data points. Web scraped data also informs property value appraisals, rental yield estimates, and real estate market trends analysis.\n",
    "\n",
    "\n",
    "Give three areas where Web Scraping is used to get data:\n",
    "1. Email Marketing\n",
    "2. News Monitoring\n",
    "3. Market Research\n"
   ]
  },
  {
   "cell_type": "markdown",
   "id": "a8eec5b7-5a27-4822-a341-5327e91f1611",
   "metadata": {},
   "source": [
    "# Q2. What are the different methods used for Web Scraping?"
   ]
  },
  {
   "cell_type": "markdown",
   "id": "4f89cd78-df75-4b0b-8d38-38353ddade31",
   "metadata": {},
   "source": [
    "The most common techniques used for Web Scraping are\n",
    "1. Human copy-and-paste\n",
    "2. Text pattern matching\n",
    "3. HTTP programming\n",
    "4. HTML parsing\n",
    "5. DOM parsing\n",
    "6. Vertical aggregation\n",
    "7. Semantic annotation recognizing\n",
    "8. Computer vision web-page analysis"
   ]
  },
  {
   "cell_type": "markdown",
   "id": "d505ca1c-f8b6-49cd-9c5e-236a03db5105",
   "metadata": {},
   "source": [
    "# Q3. What is Beautiful Soup? Why is it used?"
   ]
  },
  {
   "cell_type": "markdown",
   "id": "c9b2c7ff-464d-4db3-8ea4-ce02e1d4265b",
   "metadata": {},
   "source": [
    "Beautiful Soup is a Python package for parsing HTML and XML documents. It creates a parse tree for parsed pages that can be used to extract data from HTML, which is useful for web scraping.\n",
    "\n",
    "Uses of BS:\n",
    "The Beautiful Soup library helps with isolating titles and links from webpages. It can extract all of the text from ​HTML tags, and alter the HTML in the document with which we are working."
   ]
  },
  {
   "cell_type": "markdown",
   "id": "a9ef2e77-4967-48f5-a321-a0e54dc240fd",
   "metadata": {},
   "source": [
    "# Q4. Why is flask used in this Web Scraping project?"
   ]
  },
  {
   "cell_type": "markdown",
   "id": "9ac1d668-a0b5-43a7-83e4-f6d8651c8701",
   "metadata": {},
   "source": [
    "Flask is a lightweight framework to build websites. We will use this to parse our collected data and display it as HTML in a new HTML file. The requests module allows us to send http requests to the website we want to scrape. The first line imports the Flask class and the render_template method from the flask library."
   ]
  },
  {
   "cell_type": "markdown",
   "id": "2433b3ce-7c07-4ffe-a0d8-cc61052c1c10",
   "metadata": {},
   "source": [
    "# Q5. Write the names of AWS services used in this project. Also, explain the use of each service."
   ]
  },
  {
   "cell_type": "markdown",
   "id": "a6038267-4db0-4bd4-ac9e-27a27da29a9e",
   "metadata": {},
   "source": [
    "Bean stack: It provides the resources.\n",
    "Code pipeline: It provides code for resources so that we can deploy the code.\n",
    "\n",
    "Elastic Beanstalk is a service for deploying and scaling web applications and services. Upload your code and Elastic Beanstalk automatically handles the deployment—from capacity provisioning, load balancing, and auto scaling to application health monitoring.\n",
    "\n",
    "AWS CodePipeline is a continuous delivery service you can use to model, visualize, and automate the steps required to release your software. You can quickly model and configure the different stages of a software release process. CodePipeline automates the steps required to release your software changes continuously.\n",
    "\n"
   ]
  },
  {
   "cell_type": "code",
   "execution_count": null,
   "id": "67aa9400-a7a4-4d56-a569-d9ba97866564",
   "metadata": {},
   "outputs": [],
   "source": []
  }
 ],
 "metadata": {
  "kernelspec": {
   "display_name": "Python 3 (ipykernel)",
   "language": "python",
   "name": "python3"
  },
  "language_info": {
   "codemirror_mode": {
    "name": "ipython",
    "version": 3
   },
   "file_extension": ".py",
   "mimetype": "text/x-python",
   "name": "python",
   "nbconvert_exporter": "python",
   "pygments_lexer": "ipython3",
   "version": "3.10.8"
  }
 },
 "nbformat": 4,
 "nbformat_minor": 5
}
